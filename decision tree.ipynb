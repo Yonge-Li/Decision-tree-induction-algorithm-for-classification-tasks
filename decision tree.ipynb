{
 "cells": [
  {
   "cell_type": "markdown",
   "metadata": {},
   "source": [
    "# Machine Learning - Assignment 2\n",
    "\n",
    "## Decision tree induction algorithm for classification tasks"
   ]
  },
  {
   "cell_type": "markdown",
   "metadata": {},
   "source": [
    "The aim of the assignment is to:\n",
    "\n",
    "* Implement a decision tree induction algorithm for classification tasks.\n",
    "* Make sure it works for real valued features and nominal features (categorical features without rank, e.g., red - blue - green).\n",
    "* Test the algorithm on 3 datasets.\n",
    "\n",
    "Follow the instructions and implement what is missing to complete the assignment. Some functions have been started to help you a little bit with the inputs or outputs of the function.\n",
    "\n",
    "**Note:** You might need to go back and forth during your implementation of the code. The structure is set up to make implementation easier, but how you return values from the different functions might vary, and you might find yourself going back and change something to make it easier later on."
   ]
  },
  {
   "cell_type": "markdown",
   "metadata": {},
   "source": [
    "## Assignment preparations"
   ]
  },
  {
   "cell_type": "markdown",
   "metadata": {},
   "source": [
    "We help you out with importing the libraries.\n",
    "\n",
    "**IMPORTANT NOTE:** You may not import any more libraries than the ones already imported!"
   ]
  },
  {
   "cell_type": "code",
   "execution_count": 1,
   "metadata": {},
   "outputs": [],
   "source": [
    "import numpy as np\n",
    "import pandas as pd\n",
    "import matplotlib.pyplot as plt"
   ]
  },
  {
   "cell_type": "markdown",
   "metadata": {},
   "source": [
    "## Decision tree model\n",
    "\n",
    "The main objective is to implement the decision tree model. The implemented decision tree needs to be recursive model, that is, it should be implemented general enough to call itself in order to grow. \"Growing\" a tree refers to the same thing as \"training\" a model.\n",
    "\n",
    "As said in the introduction, the structure is set up to help with implementation, but the nature of this model makes it a bit harder to implement function-by-function. You will most likely go back and forth between these first tasks."
   ]
  },
  {
   "cell_type": "markdown",
   "metadata": {},
   "source": [
    "### 1) Grow Tree\n",
    "\n",
    "We will start with the main function of the decision tree, the \"growing\" function. \n",
    "\n",
    "This function should be called when creating the model, but also from inside itself. It is responible for creating all the nodes and leafs in the tree."
   ]
  },
  {
   "cell_type": "code",
   "execution_count": 2,
   "metadata": {},
   "outputs": [],
   "source": [
    "def grow_tree(data, min_samples_split=2, max_depth=2, depth=0):\n",
    "    \n",
    "    X = data[:, :-1]\n",
    "    Y = data[:, -1]\n",
    "    n_samples, n_features = np.shape(X)\n",
    "    \n",
    "    best_split = find_best_split(data, n_samples, n_features)\n",
    "\n",
    "    if (stop_min_samples(n_samples, min_samples_split) or stop_pure_label(Y) or \n",
    "        stop_max_depth(depth, max_depth) or stop_if_unbalanced_stop(Y) or best_split[\"info_gain\"] <= 0):\n",
    "        leaf_value = createLeafValue(Y) \n",
    "        return {\"value\": leaf_value}  # Return a leaf node\n",
    "    \n",
    "\n",
    "    if best_split[\"info_gain\"] > 0:\n",
    "        left_subtree = grow_tree(best_split[\"dataset_left\"], min_samples_split, max_depth, depth + 1)\n",
    "        right_subtree = grow_tree(best_split[\"dataset_right\"], min_samples_split, max_depth, depth + 1)\n",
    "        return {\n",
    "            \"feature_index\": best_split[\"feature_index\"],\n",
    "            \"threshold\": best_split[\"threshold\"],\n",
    "            \"left\": left_subtree,\n",
    "            \"right\": right_subtree,\n",
    "            \"info_gain\": best_split[\"info_gain\"]\n",
    "        }\n",
    "\n",
    "def createLeafValue(Y):\n",
    "    Y = list(Y)\n",
    "    most_frequent=max(Y, key=Y.count)\n",
    "    return most_frequent"
   ]
  },
  {
   "cell_type": "markdown",
   "metadata": {},
   "source": [
    "### 2) Growth stopping conditions (or stopping criterias)\n",
    "\n",
    "The \"grow_tree\" function needs some way of stop growing, otherwise it will grow indefinitely. We will adress this issue here.\n",
    "\n",
    "The trees stopping criterias needs to handle the following:\n",
    "\n",
    "1) When a node has only datapoints of a single class.\n",
    "\n",
    "2) Prevent the tree from growing to large, i.e., a max depth.\n",
    "\n",
    "3) Prevent the tree nodes from becoming to small.\n",
    "\n",
    "4) Prevent the tree from growing when the node is large (has a lot of datapoints) but it is very unbalanced. This is an extention to case 1.\n",
    "\n",
    "Can you think of some other stopping criterias that is good to have? "
   ]
  },
  {
   "cell_type": "code",
   "execution_count": 3,
   "metadata": {},
   "outputs": [],
   "source": [
    "# TODO: Change the name of the functions and implement them as you see fit.\n",
    "\n",
    "def stop_pure_label(labels):\n",
    "    return len(np.unique(labels)) == 1\n",
    "\n",
    "def stop_max_depth(depth, max_depth):\n",
    "        return depth >= max_depth \n",
    "\n",
    "def stop_min_samples(n_samples, min_samples_split):\n",
    "        return n_samples < min_samples_split \n",
    "\n",
    "def stop_if_unbalanced_stop(labels):\n",
    "    labels = labels.astype(int)\n",
    "    imbalance_threshold = 0.9\n",
    "    max_class_ratio = np.max(np.bincount(labels)) / len(labels)\n",
    "    if max_class_ratio >= imbalance_threshold:\n",
    "        return True\n",
    "    return False\n",
    "\n"
   ]
  },
  {
   "cell_type": "markdown",
   "metadata": {},
   "source": [
    "### 3) Best feature for splitting nodes\n",
    "\n",
    "When we are growing the tree, we need to decide how we are going to split a node into two new nodes. This is achived by looking at the features of the data in the node and calculate the best feature to split on.\n",
    "\n",
    "Here you have a choice:\n",
    "\n",
    "* Split using **Information Entropy**\n",
    "* Split using **Gini Impurity**\n",
    "\n",
    "Finish the function below using Information Entropy or Gini Impurity.\n",
    "\n",
    "**Note:** Your code should be able to handle both real and categorical features!"
   ]
  },
  {
   "cell_type": "code",
   "execution_count": 4,
   "metadata": {},
   "outputs": [],
   "source": [
    "def find_best_split(dataset, n_samples, n_features):\n",
    "    best_split = {}\n",
    "    max_info_gain = -float(\"inf\")\n",
    "\n",
    "    for feature_index in range(n_features):\n",
    "        feature_values = dataset[:, feature_index]\n",
    "        is_numerical = np.issubdtype(feature_values.dtype, np.number)\n",
    "\n",
    "        if is_numerical: #numerical\n",
    "            thresholds = [np.mean(feature_values)]\n",
    "        else: #categorical\n",
    "            thresholds = np.unique(feature_values)\n",
    "\n",
    "        for threshold in thresholds:\n",
    "            left, right = split_data(dataset, feature_index, threshold)\n",
    "            if len(left) > 0 and len(right) > 0:\n",
    "                parent, left_labels, right_labels = dataset[:, -1], left[:, -1], right[:, -1]\n",
    "                \n",
    "                # Calculating the information gain\n",
    "                current_info_gain = information_gain(parent, left_labels, right_labels)\n",
    "                if current_info_gain > max_info_gain:\n",
    "                    best_split[\"feature_index\"] = feature_index\n",
    "                    best_split[\"threshold\"] = threshold\n",
    "                    best_split[\"dataset_left\"] = left\n",
    "                    best_split[\"dataset_right\"] = right\n",
    "                    best_split[\"info_gain\"] = current_info_gain\n",
    "                    max_info_gain = current_info_gain\n",
    "\n",
    "    return best_split\n",
    "\n",
    "def information_gain(parent_entropy, left_labels, right_labels):\n",
    "    p_left = len(left_labels) / len(parent_entropy)\n",
    "    p_right = len(right_labels) / len(parent_entropy)\n",
    "\n",
    "    gain = gini_index(parent_entropy) - (p_left * gini_index(left_labels) + p_right * gini_index(right_labels))\n",
    "\n",
    "    return gain\n",
    "\n",
    "def gini_index(labels):\n",
    "    target_labels = np.unique(labels)\n",
    "    gini_val = 0\n",
    "\n",
    "    for i in target_labels:\n",
    "        p_target = len(labels[labels == i]) / len(labels)\n",
    "        gini_val += p_target ** 2\n",
    "        \n",
    "    gini_val=1-gini_val\n",
    "\n",
    "    return gini_val"
   ]
  },
  {
   "cell_type": "markdown",
   "metadata": {},
   "source": [
    "### 4) Split data\n",
    "\n",
    "When growing the tree, we need to split the data multiple times, and what we decide to split varies a lot. It is similar to splitting data into train and test sets (remember from assignment 1), but we split the data based on the best feature for growing a good tree.\n",
    "\n",
    "**IMPORTANT NOTE:** To calculate binary splits for real-valued features, the following rule must be applied: an instance with a feature value lower than the mean feature value follows the left edge from the split node while all other instances follow the right edge from the split node."
   ]
  },
  {
   "cell_type": "code",
   "execution_count": 5,
   "metadata": {},
   "outputs": [],
   "source": [
    "def split_data(dataset, feature_index,threshold):\n",
    "    \n",
    "    feature_values = dataset[:, feature_index]\n",
    "    is_numerical = np.issubdtype(feature_values.dtype, np.number)\n",
    "\n",
    "    if is_numerical:\n",
    "        threshold = np.mean(feature_values)\n",
    "\n",
    "    dataset_left = np.array([row for row in dataset if row[feature_index] <= threshold])\n",
    "    dataset_right = np.array([row for row in dataset if row[feature_index] > threshold])\n",
    "\n",
    "    return dataset_left, dataset_right\n"
   ]
  },
  {
   "cell_type": "markdown",
   "metadata": {},
   "source": [
    "### 5) Predict with tree model\n",
    "\n",
    "Finally, when we have grown our tree, we would like to use it for prediction. When using the tree for prediction, we traverse the tree for each datapoint untill we land in a leaf node."
   ]
  },
  {
   "cell_type": "code",
   "execution_count": 6,
   "metadata": {},
   "outputs": [],
   "source": [
    "def predict_with_tree(datapoint, tree):\n",
    "\n",
    "    # TODO: Implement the rest of this function.\n",
    "    # NOTE: This function should also be recursive.\n",
    "\n",
    "    predictions = []\n",
    "    for x in datapoint:\n",
    "        predictions.append(make_prediction(x, tree))\n",
    "    return predictions\n",
    "\n",
    "def make_prediction(x, tree):\n",
    "    if tree.get(\"value\") is not None:\n",
    "        return tree[\"value\"]\n",
    "\n",
    "    feature_val = x[tree[\"feature_index\"]]\n",
    "    if feature_val <= tree[\"threshold\"]:\n",
    "        return make_prediction(x, tree[\"left\"])\n",
    "    else:\n",
    "        return make_prediction(x, tree[\"right\"])\n"
   ]
  },
  {
   "cell_type": "markdown",
   "metadata": {},
   "source": [
    "## Test decision tree model, compare with scikit learn, and plot dataset results\n",
    "\n",
    "In the last part of the lab, you are going to test your tree code and compare it to scikit learn. The goal is not to be better than an established library, but to give you an indication about if you are on the right track.\n",
    "\n",
    "You will need to plot the results from your model and the scikit learn model using matplotlib. We suggest a simple but informative bar-charts.\n",
    "\n",
    "To make the comparison fair, you should train and test both your decision tree algorithm and the scikit learn at least 5 times, and shuffle the data each time before splitting the data into a train and test set.\n",
    "\n",
    "The datasets are:\n",
    "\n",
    "* Wine - (https://archive.ics.uci.edu/dataset/109/wine)\n",
    "* Heart disease - (https://archive.ics.uci.edu/dataset/45/heart+disease)\n",
    "* Car - (https://archive.ics.uci.edu/dataset/19/car+evaluation)\n",
    "\n",
    "**IMPORTANT NOTE 1:** Take note of the feature types in the datasets, some features are numerical in value but are in fact categorical features. Be sure to handle these features correctly!\n",
    "\n",
    "**IMPORTANT NOTE 2:** In this assignment it helps to add an additional header with information about the features and if they are nominal (n) or real (r) features."
   ]
  },
  {
   "cell_type": "code",
   "execution_count": 7,
   "metadata": {},
   "outputs": [],
   "source": [
    "import matplotlib.pyplot as plt\n",
    "\n",
    "from sklearn.model_selection import train_test_split\n",
    "from sklearn.metrics import accuracy_score\n",
    "from sklearn.tree import DecisionTreeClassifier"
   ]
  },
  {
   "cell_type": "markdown",
   "metadata": {},
   "source": [
    "You may use the \"**accuracy_score**\" function from scikit learn (imported above) to compare the performance of your own and scikit learns models.\n",
    "\n",
    "See below for an example use."
   ]
  },
  {
   "cell_type": "code",
   "execution_count": 8,
   "metadata": {},
   "outputs": [
    {
     "data": {
      "text/plain": [
       "0.6"
      ]
     },
     "execution_count": 8,
     "metadata": {},
     "output_type": "execute_result"
    }
   ],
   "source": [
    "y_true = [1,1,1,1,1] # Pretend labels\n",
    "y_pred = [1,1,2,2,1] # Pretend prediction\n",
    "\n",
    "accuracy_score(y_true, y_pred)"
   ]
  },
  {
   "cell_type": "markdown",
   "metadata": {},
   "source": [
    "### 6) Dataset 1: Wine"
   ]
  },
  {
   "cell_type": "code",
   "execution_count": 9,
   "metadata": {},
   "outputs": [
    {
     "name": "stdout",
     "output_type": "stream",
     "text": [
      "Wine Dataset Decision Tree Testing\n",
      "Custom model Accuracy 'Wine-Dataset' Run 1 0.8571428571428571\n",
      "Scikit-learn Accuracy 'Wine-Dataset' Run 1: 0.9714 \n",
      "Custom model Accuracy 'Wine-Dataset' Run 2 0.9428571428571428\n",
      "Scikit-learn Accuracy 'Wine-Dataset' Run 2: 0.9429 \n",
      "Custom model Accuracy 'Wine-Dataset' Run 3 0.8571428571428571\n",
      "Scikit-learn Accuracy 'Wine-Dataset' Run 3: 0.8571 \n",
      "Custom model Accuracy 'Wine-Dataset' Run 4 0.9428571428571428\n",
      "Scikit-learn Accuracy 'Wine-Dataset' Run 4: 0.9714 \n",
      "Custom model Accuracy 'Wine-Dataset' Run 5 0.9142857142857143\n",
      "Scikit-learn Accuracy 'Wine-Dataset' Run 5: 0.9429 \n"
     ]
    },
    {
     "data": {
      "image/png": "[encoded data removed]",
      "text/plain": [
       "<Figure size 1000x600 with 1 Axes>"
      ]
     },
     "metadata": {},
     "output_type": "display_data"
    }
   ],
   "source": [
    "data_wine = pd.read_csv(\"wine.csv\")\n",
    "data_wine=data_wine.drop(0)\n",
    "\n",
    "print('Wine Dataset Decision Tree Testing')\n",
    "\n",
    "sklearn_accuracies = []\n",
    "my_accuracies = [] \n",
    "\n",
    "# TODO: Set up the data and split it into train and test-sets.\n",
    "for i in range(5):\n",
    "    \n",
    "    data_wine = data_wine.sample(frac=1).reset_index(drop=True)\n",
    "    features = data_wine.iloc[:, :-1].values \n",
    "    labels = data_wine.iloc[:, -1].values.reshape(-1, 1)\n",
    "    \n",
    "    #Splitting test and train data\n",
    "    split_size = int(0.2*len(data_wine))\n",
    "    features_test,labels_test = features[:split_size],labels[:split_size]\n",
    "    features_train,labels_train = features[split_size:],labels[split_size:]\n",
    "\n",
    "    training_wine_data=np.concatenate((features_train, labels_train), axis=1)\n",
    "    tree = grow_tree(training_wine_data, min_samples_split=3, max_depth=4)\n",
    "\n",
    "# TODO: Train and test your implemented tree model.\n",
    "# NOTE: Use the same train/test split for your tree model and the scikit learn model\n",
    "\n",
    "    labels_prediction = predict_with_tree(features_test, tree)\n",
    "    my_accuracy = accuracy_score(labels_test,labels_prediction)   \n",
    "    my_accuracies.append(my_accuracy)\n",
    "    print(\"Custom model Accuracy 'Wine-Dataset' Run\",i+1, my_accuracy)\n",
    "    \n",
    "    \n",
    "# TODO: Train and test scikit learns tree model.\n",
    "# NOTE: Use the same train/test split for your tree model and the scikit learn model   \n",
    "    \n",
    "    clf = DecisionTreeClassifier(min_samples_split=3, max_depth=4, random_state=42) #random_state for reproducibility\n",
    "    clf.fit(features_train, labels_train)\n",
    "    sklearn_predictions = clf.predict(features_test)\n",
    "    sklearn_accuracy = accuracy_score(labels_test, sklearn_predictions)\n",
    "    sklearn_accuracies.append(sklearn_accuracy)\n",
    "    print(f\"Scikit-learn Accuracy 'Wine-Dataset' Run {i+1}: {sklearn_accuracy:.4f} \")\n",
    "\n",
    "# TODO: Plot the results with matplotlib (plt)\n",
    "# NOTE: One plot with all results is enough\n",
    "plt.figure(figsize=(10, 6))\n",
    "barWidth = 0.2  \n",
    "r1 = np.arange(len(my_accuracies))\n",
    "r2 = [x + barWidth for x in r1]\n",
    "plt.bar(r1, my_accuracies, color='skyblue', width=barWidth, edgecolor='white', label='My Decision Tree')\n",
    "plt.bar(r2, sklearn_accuracies, color='lightcoral', width=barWidth, edgecolor='white', label='Scikit-learn Decision Tree')\n",
    "plt.xlabel('Run', fontweight='bold')\n",
    "plt.ylabel('Accuracy', fontweight='bold')\n",
    "plt.title('Accuracy Comparison Wine Dataset', fontweight='bold')\n",
    "plt.legend()\n",
    "plt.show()"
   ]
  },
  {
   "cell_type": "markdown",
   "metadata": {},
   "source": [
    "### 7) Dataset 2: Heart Disease"
   ]
  },
  {
   "cell_type": "code",
   "execution_count": 10,
   "metadata": {},
   "outputs": [
    {
     "name": "stdout",
     "output_type": "stream",
     "text": [
      "Heart Dataset Decision Tree Testing\n",
      "Custom model Accuracy 'Heart Dataset' Run 1 0.8578431372549019\n",
      "Scikit-learn Accuracy 'Heart-Dataset' Run 1: 0.8922 \n",
      "Custom model Accuracy 'Heart Dataset' Run 2 0.7892156862745098\n",
      "Scikit-learn Accuracy 'Heart-Dataset' Run 2: 0.8578 \n",
      "Custom model Accuracy 'Heart Dataset' Run 3 0.8235294117647058\n",
      "Scikit-learn Accuracy 'Heart-Dataset' Run 3: 0.8333 \n",
      "Custom model Accuracy 'Heart Dataset' Run 4 0.8578431372549019\n",
      "Scikit-learn Accuracy 'Heart-Dataset' Run 4: 0.8382 \n",
      "Custom model Accuracy 'Heart Dataset' Run 5 0.8431372549019608\n",
      "Scikit-learn Accuracy 'Heart-Dataset' Run 5: 0.8676 \n"
     ]
    },
    {
     "data": {
      "image/png": "[encoded data removed]",
      "text/plain": [
       "<Figure size 1000x600 with 1 Axes>"
      ]
     },
     "metadata": {},
     "output_type": "display_data"
    }
   ],
   "source": [
    "data_heart = pd.read_csv(\"heart.csv\")\n",
    "data_heart = data_heart.drop(0)\n",
    "print('Heart Dataset Decision Tree Testing')\n",
    "\n",
    "sklearn_accuracies = []\n",
    "my_accuracies = [] \n",
    "\n",
    "# TODO: Set up the data and split it into train and test-sets.\n",
    "for i in range(5):\n",
    "    \n",
    "    data_heart = data_heart.sample(frac=1).reset_index(drop=True)\n",
    "    features = data_heart.iloc[:, :-1].values \n",
    "    labels = data_heart.iloc[:, -1].values.reshape(-1, 1)\n",
    "    split_size = int(0.2*len(data_heart))\n",
    "    \n",
    "    #Splitting test and train data\n",
    "    features_test,labels_test = features[:split_size],labels[:split_size]\n",
    "    features_train,labels_train = features[split_size:],labels[split_size:]\n",
    "\n",
    "    training_heart_data=np.concatenate((features_train, labels_train), axis=1)\n",
    "    tree = grow_tree(training_heart_data, min_samples_split=3, max_depth=4)\n",
    "\n",
    "# TODO: Train and test your implemented tree model.\n",
    "# NOTE: Use the same train/test split for your tree model and the scikit learn model\n",
    "\n",
    "    labels_prediction = predict_with_tree(features_test, tree)\n",
    "\n",
    "    my_accuracy = accuracy_score(labels_test,labels_prediction)   \n",
    "    my_accuracies.append(my_accuracy)\n",
    "    print(\"Custom model Accuracy 'Heart Dataset' Run\",i+1, my_accuracy)\n",
    "    \n",
    "    \n",
    "# TODO: Train and test scikit learns tree model.\n",
    "# NOTE: Use the same train/test split for your tree model and the scikit learn model   \n",
    "    \n",
    "    clf = DecisionTreeClassifier(min_samples_split=3, max_depth=4, random_state=42) #random_state for reproducibility\n",
    "    clf.fit(features_train, labels_train)\n",
    "    sklearn_predictions = clf.predict(features_test)\n",
    "    sklearn_accuracy = accuracy_score(labels_test, sklearn_predictions)\n",
    "    sklearn_accuracies.append(sklearn_accuracy)\n",
    "    print(f\"Scikit-learn Accuracy 'Heart-Dataset' Run {i+1}: {sklearn_accuracy:.4f} \")\n",
    "    \n",
    "# TODO: Plot the results with matplotlib (plt)\n",
    "# NOTE: One plot with all results is enough\n",
    "plt.figure(figsize=(10, 6))\n",
    "barWidth = 0.2 \n",
    "r1 = np.arange(len(my_accuracies))\n",
    "r2 = [x + barWidth for x in r1]\n",
    "plt.bar(r1, my_accuracies, color='skyblue', width=barWidth, edgecolor='white', label='My Decision Tree')\n",
    "plt.bar(r2, sklearn_accuracies, color='lightcoral', width=barWidth, edgecolor='white', label='Scikit-learn Decision Tree')\n",
    "plt.xlabel('Run', fontweight='bold')\n",
    "plt.ylabel('Accuracy', fontweight='bold')\n",
    "plt.title('Accuracy Comparison - Heart Dataset', fontweight='bold')\n",
    "plt.legend()\n",
    "plt.show()\n"
   ]
  },
  {
   "cell_type": "markdown",
   "metadata": {},
   "source": [
    "### 8) Dataset 3: Car"
   ]
  },
  {
   "cell_type": "code",
   "execution_count": 11,
   "metadata": {},
   "outputs": [
    {
     "name": "stdout",
     "output_type": "stream",
     "text": [
      "Car Dataset Decision Tree Testing\n",
      "Custom model Accuracy 'Car Dataset' Run 1 0.8144927536231884\n",
      "Scikit-learn Accuracy 'Car Dataset' Run 1: 0.8348 \n",
      "Custom model Accuracy 'Car Dataset' Run 2 0.8\n",
      "Scikit-learn Accuracy 'Car Dataset' Run 2: 0.7971 \n",
      "Custom model Accuracy 'Car Dataset' Run 3 0.7942028985507247\n",
      "Scikit-learn Accuracy 'Car Dataset' Run 3: 0.8174 \n",
      "Custom model Accuracy 'Car Dataset' Run 4 0.7884057971014493\n",
      "Scikit-learn Accuracy 'Car Dataset' Run 4: 0.8000 \n",
      "Custom model Accuracy 'Car Dataset' Run 5 0.8\n",
      "Scikit-learn Accuracy 'Car Dataset' Run 5: 0.8058 \n"
     ]
    },
    {
     "data": {
      "image/png": "[encoded data removed]",
      "text/plain": [
       "<Figure size 1000x600 with 1 Axes>"
      ]
     },
     "metadata": {},
     "output_type": "display_data"
    }
   ],
   "source": [
    "from sklearn.preprocessing import LabelEncoder\n",
    "data_car = pd.read_csv(\"car.csv\")\n",
    "data_car = data_car.drop(0)\n",
    "\n",
    "# Encoding using label encoder\n",
    "label_encoders = {}\n",
    "for column in data_car.columns:\n",
    "    encoder = LabelEncoder()\n",
    "    data_car[column] = encoder.fit_transform(data_car[column])\n",
    "    label_encoders[column] = encoder\n",
    "\n",
    "sklearn_accuracies = []\n",
    "my_accuracies = [] \n",
    "\n",
    "print('Car Dataset Decision Tree Testing')\n",
    "\n",
    "for i in range(5):\n",
    "    \n",
    "    data_car = data_car.sample(frac=1).reset_index(drop=True)\n",
    "    features = data_car.iloc[:, :-1].values \n",
    "    labels = data_car.iloc[:, -1].values.reshape(-1, 1)\n",
    "    split_size = int(0.2*len(data_car))\n",
    "    \n",
    "    #Splitting test and train data\n",
    "    features_test,labels_test = features[:split_size],labels[:split_size]\n",
    "    features_train,labels_train = features[split_size:],labels[split_size:]\n",
    "\n",
    "    training_car_data=np.concatenate((features_train, labels_train), axis=1)\n",
    "    tree = grow_tree(training_car_data, min_samples_split=3, max_depth=4)\n",
    "\n",
    "# TODO: Train and test your implemented tree model.\n",
    "# NOTE: Use the same train/test split for your tree model and the scikit learn model\n",
    "\n",
    "    labels_prediction = predict_with_tree(features_test, tree)\n",
    "\n",
    "    my_accuracy = accuracy_score(labels_test,labels_prediction)   \n",
    "    my_accuracies.append(my_accuracy)\n",
    "    print(\"Custom model Accuracy 'Car Dataset' Run\",i+1, my_accuracy)\n",
    "    \n",
    "    # TODO: Train and test scikit learns tree model.\n",
    "    # NOTE: Use the same train/test split for your tree model and the scikit learn model   \n",
    "    \n",
    "    clf = DecisionTreeClassifier(min_samples_split=3, max_depth=4, random_state=42) #random_state for reproducibility\n",
    "    clf.fit(features_train, labels_train)\n",
    "    sklearn_predictions = clf.predict(features_test)\n",
    "    sklearn_accuracy = accuracy_score(labels_test, sklearn_predictions)\n",
    "    sklearn_accuracies.append(sklearn_accuracy)\n",
    "    print(f\"Scikit-learn Accuracy 'Car Dataset' Run {i+1}: {sklearn_accuracy:.4f} \")\n",
    "    \n",
    "# TODO: Plot the results with matplotlib (plt)\n",
    "# NOTE: One plot with all results is enough\n",
    "plt.figure(figsize=(10, 6))\n",
    "barWidth = 0.2 \n",
    "r1 = np.arange(len(my_accuracies))\n",
    "r2 = [x + barWidth for x in r1]\n",
    "plt.bar(r1, my_accuracies, color='skyblue', width=barWidth, edgecolor='white', label='My Decision Tree')\n",
    "plt.bar(r2, sklearn_accuracies, color='lightcoral', width=barWidth, edgecolor='white', label='Scikit-learn Decision Tree')\n",
    "plt.xlabel('Run', fontweight='bold')\n",
    "plt.ylabel('Accuracy', fontweight='bold')\n",
    "plt.title('Accuracy Comparison - Car Dataset', fontweight='bold')\n",
    "plt.legend()\n",
    "plt.show()\n"
   ]
  },
  {
   "cell_type": "markdown",
   "metadata": {},
   "source": [
    "### 9) Training with normalized data on the wine-dataset\n",
    "\n",
    "So far, we have trained our decision trees with \"raw\" data, i.e., we haven't done much preprocessing on the data.\n",
    "\n",
    "Here we will do minor preprocessing on the data with the help of the scikit-learn library: https://scikit-learn.org/stable/modules/preprocessing.html"
   ]
  },
  {
   "cell_type": "code",
   "execution_count": 12,
   "metadata": {},
   "outputs": [
    {
     "name": "stdout",
     "output_type": "stream",
     "text": [
      "Scikit-learn Accuracy (no preprocessing) Run 1: 0.9167\n",
      "Custom Tree Accuracy (no preprocessing) Run 1: 0.8611\n",
      "Scikit-learn Accuracy (with preprocessing) Run 1: 0.9167\n",
      "Custom Tree Accuracy (with preprocessing) Run 1: 0.8611\n",
      "Scikit-learn Accuracy (no preprocessing) Run 2: 0.9444\n",
      "Custom Tree Accuracy (no preprocessing) Run 2: 0.8333\n",
      "Scikit-learn Accuracy (with preprocessing) Run 2: 0.9444\n",
      "Custom Tree Accuracy (with preprocessing) Run 2: 0.8333\n",
      "Scikit-learn Accuracy (no preprocessing) Run 3: 0.9444\n",
      "Custom Tree Accuracy (no preprocessing) Run 3: 0.9167\n",
      "Scikit-learn Accuracy (with preprocessing) Run 3: 0.9444\n",
      "Custom Tree Accuracy (with preprocessing) Run 3: 0.9167\n",
      "Scikit-learn Accuracy (no preprocessing) Run 4: 0.9167\n",
      "Custom Tree Accuracy (no preprocessing) Run 4: 0.9167\n",
      "Scikit-learn Accuracy (with preprocessing) Run 4: 0.9167\n",
      "Custom Tree Accuracy (with preprocessing) Run 4: 0.9167\n",
      "Scikit-learn Accuracy (no preprocessing) Run 5: 0.9167\n",
      "Custom Tree Accuracy (no preprocessing) Run 5: 0.8889\n",
      "Scikit-learn Accuracy (with preprocessing) Run 5: 0.9167\n",
      "Custom Tree Accuracy (with preprocessing) Run 5: 0.8889\n"
     ]
    },
    {
     "data": {
      "image/png": "[encoded data removed]",
      "text/plain": [
       "<Figure size 1200x600 with 1 Axes>"
      ]
     },
     "metadata": {},
     "output_type": "display_data"
    },
    {
     "name": "stdout",
     "output_type": "stream",
     "text": [
      "Average Scikit-learn Accuracy (No Preprocessing): 0.9278\n",
      "Average Scikit-learn Accuracy (With Preprocessing): 0.9278\n",
      "Average Custom Tree Accuracy (No Preprocessing): 0.8833\n",
      "Average Custom Tree Accuracy (With Preprocessing): 0.8833\n"
     ]
    }
   ],
   "source": [
    "from sklearn import preprocessing\n",
    "\n",
    "data_wine = pd.read_csv(\"wine.csv\")\n",
    "data_wine = data_wine.drop(0)\n",
    "\n",
    "preprocessed_data_accuracies = [] \n",
    "no_processing_data_accuracies = []   \n",
    "sklearn_accuracies = []\n",
    "sklearn_preprocessed_accuracies = []\n",
    "\n",
    "for i in range(5):\n",
    "    data_wine_shuffled = data_wine.sample(frac=1).reset_index(drop=True)\n",
    "    features = data_wine_shuffled.iloc[:, :-1].values\n",
    "    labels = data_wine_shuffled.iloc[:, -1].values.reshape(-1, 1)\n",
    "    \n",
    "    features_train, features_test, labels_train, labels_test = train_test_split(features, labels, test_size=0.2, random_state=i) # different random_state for each iteration\n",
    "\n",
    "    # Scikit-learn (no preprocessing)\n",
    "    clf = DecisionTreeClassifier(min_samples_split=3, max_depth=4, random_state=42)\n",
    "    clf.fit(features_train, labels_train)\n",
    "    sklearn_predictions = clf.predict(features_test)\n",
    "    sklearn_accuracy = accuracy_score(labels_test, sklearn_predictions)\n",
    "    sklearn_accuracies.append(sklearn_accuracy)\n",
    "    print(f\"Scikit-learn Accuracy (no preprocessing) Run {i+1}: {sklearn_accuracy:.4f}\")\n",
    "\n",
    "    # Custom Tree (no preprocessing)\n",
    "    training_wine_data = np.concatenate((features_train, labels_train), axis=1)\n",
    "    tree = grow_tree(training_wine_data, min_samples_split=3, max_depth=4)\n",
    "    labels_prediction_nopre = predict_with_tree(features_test, tree)\n",
    "    nopreprocessing_accuracy = accuracy_score(labels_test, labels_prediction_nopre)\n",
    "    no_processing_data_accuracies.append(nopreprocessing_accuracy)\n",
    "    print(f\"Custom Tree Accuracy (no preprocessing) Run {i+1}: {nopreprocessing_accuracy:.4f}\")\n",
    "\n",
    "\n",
    "    # Preprocessing with MinMaxScaler\n",
    "    scaler = preprocessing.MinMaxScaler()\n",
    "    features_train_scaled = scaler.fit_transform(features_train)\n",
    "    features_test_scaled = scaler.transform(features_test)\n",
    "\n",
    "    # Scikit-learn (with preprocessing)\n",
    "    clf_scaled = DecisionTreeClassifier(min_samples_split=3, max_depth=4, random_state=42)\n",
    "    clf_scaled.fit(features_train_scaled, labels_train)\n",
    "    sklearn_predictions_scaled = clf_scaled.predict(features_test_scaled)\n",
    "    sklearn_preprocessed_accuracy = accuracy_score(labels_test, sklearn_predictions_scaled)\n",
    "    sklearn_preprocessed_accuracies.append(sklearn_preprocessed_accuracy)\n",
    "    print(f\"Scikit-learn Accuracy (with preprocessing) Run {i+1}: {sklearn_preprocessed_accuracy:.4f}\")\n",
    "\n",
    "    # Custom Tree (with preprocessing)\n",
    "    training_wine_data_scaled = np.concatenate((features_train_scaled, labels_train), axis=1)\n",
    "    tree_scaled = grow_tree(training_wine_data_scaled, min_samples_split=3, max_depth=4)\n",
    "    labels_prediction_pre = predict_with_tree(features_test_scaled, tree_scaled)\n",
    "    preprocessing_accuracy = accuracy_score(labels_test, labels_prediction_pre)\n",
    "    preprocessed_data_accuracies.append(preprocessing_accuracy)\n",
    "    print(f\"Custom Tree Accuracy (with preprocessing) Run {i+1}: {preprocessing_accuracy:.4f}\")\n",
    "\n",
    "\n",
    "# Plotting\n",
    "barWidth = 0.15\n",
    "r1 = np.arange(len(sklearn_accuracies))\n",
    "r2 = [x + barWidth for x in r1]\n",
    "r3 = [x + barWidth * 2 for x in r1]\n",
    "r4 = [x + barWidth * 3 for x in r1]\n",
    "\n",
    "plt.figure(figsize=(12, 6))\n",
    "plt.bar(r1, sklearn_accuracies, color='skyblue', width=barWidth, label='Scikit-learn (No Preprocessing)')\n",
    "plt.bar(r2, sklearn_preprocessed_accuracies, color='blue', width=barWidth, label='Scikit-learn (Preprocessing)')\n",
    "plt.bar(r3, no_processing_data_accuracies, color='lightcoral', width=barWidth, label='Custom Tree (No Preprocessing)')\n",
    "plt.bar(r4, preprocessed_data_accuracies, color='pink', width=barWidth, label='Custom Tree (Preprocessing)')\n",
    "\n",
    "plt.xlabel('Run', fontweight='bold')\n",
    "plt.xticks([r + barWidth * 1.5 for r in range(len(sklearn_accuracies))], [str(i + 1) for i in range(5)])\n",
    "plt.ylabel('Accuracy', fontweight='bold')\n",
    "plt.title('Accuracy Comparison: Preprocessed vs. Non-Preprocessed Data (Wine Dataset)', fontweight='bold')\n",
    "plt.legend()\n",
    "plt.show()\n",
    "\n",
    "mean_sklearn_accuracy = np.mean(sklearn_accuracies)\n",
    "mean_no_processing_accuracy = np.mean(no_processing_data_accuracies)\n",
    "mean_sklearn_preprocessed_accuracy = np.mean(sklearn_preprocessed_accuracies)\n",
    "mean_preprocessed_accuracy = np.mean(preprocessed_data_accuracies)\n",
    "\n",
    "# Print the averages\n",
    "print(f\"Average Scikit-learn Accuracy (No Preprocessing): {mean_sklearn_accuracy:.4f}\")\n",
    "print(f\"Average Scikit-learn Accuracy (With Preprocessing): {mean_sklearn_preprocessed_accuracy:.4f}\")\n",
    "print(f\"Average Custom Tree Accuracy (No Preprocessing): {mean_no_processing_accuracy:.4f}\")\n",
    "print(f\"Average Custom Tree Accuracy (With Preprocessing): {mean_preprocessed_accuracy:.4f}\")"
   ]
  },
  {
   "cell_type": "markdown",
   "metadata": {},
   "source": [
    "# Questions for examination:\n",
    "\n",
    "In addition to completing the assignment with all its tasks, you should also prepare to answer the following questions:\n",
    "\n",
    "1) Why is growing the tree indefinitely such a bad idea? The performance would increase would it not?\n",
    "\n",
    "2) Beside preventing the tree from growing to large, what is the purpose of 'stopping criterias'?\n",
    "\n",
    "3) What is the difference between **Information Entropy** and **Gini Impurity**?\n",
    "\n",
    "4) What are some pros about using decision trees?\n",
    "\n",
    "5) Did preprocessing the data help with performance when using decision trees?"
   ]
  },
  {
   "cell_type": "markdown",
   "metadata": {},
   "source": [
    "# Finished!\n",
    "\n",
    "Was part of the setup incorrect? Did you spot any inconsistencies in the assignment? Could something improve?\n",
    "\n",
    "If so, please write them and send via email and send it to:\n",
    "\n",
    "* marcus.gullstrand@ju.se\n",
    "\n",
    "Thank you!"
   ]
  }
 ],
 "metadata": {
  "kernelspec": {
   "display_name": "Python 3 (ipykernel)",
   "language": "python",
   "name": "python3"
  },
  "language_info": {
   "codemirror_mode": {
    "name": "ipython",
    "version": 3
   },
   "file_extension": ".py",
   "mimetype": "text/x-python",
   "name": "python",
   "nbconvert_exporter": "python",
   "pygments_lexer": "ipython3",
   "version": "3.12.3"
  }
 },
 "nbformat": 4,
 "nbformat_minor": 4
}
